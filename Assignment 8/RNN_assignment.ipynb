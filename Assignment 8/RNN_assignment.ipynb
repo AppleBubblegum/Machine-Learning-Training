{
 "cells": [
  {
   "cell_type": "code",
   "execution_count": 1,
   "metadata": {},
   "outputs": [],
   "source": [
    "import os\n",
    "import string\n",
    "import numpy as np\n",
    "import pandas as pd\n",
    "import matplotlib.pyplot as plt\n",
    "from time import time\n",
    "from collections import Counter\n",
    "from keras.utils import to_categorical\n",
    "from keras.utils.data_utils import get_file\n",
    "from keras.models import Sequential, load_model\n",
    "from keras.layers import Embedding, LSTM, Dense\n",
    "from keras.callbacks import EarlyStopping, ModelCheckpoint\n"
   ]
  },
  {
   "cell_type": "code",
   "execution_count": 8,
   "metadata": {},
   "outputs": [
    {
     "name": "stdout",
     "output_type": "stream",
     "text": [
      "corpus length: 538433\n",
      "example text: ﻿Bu kitabı dünyaya göz açdıqları\n",
      "müqəddəs yurd yerləri və munis uşaqlıq xatirələri\n",
      "düşmən əsirliyində qalan bütün yurddaşlarımın\n",
      "acı taleyinə ithaf ed\n"
     ]
    }
   ],
   "source": [
    "#Converted Pdf book to txt via https://pdftotext.com/\n",
    "with open('Qara_Duman_turk_tarixi_ve_mifoloji_dunyagorushunde_atlar.txt', encoding=\"utf-8\") as f:\n",
    "    raw_text= f.read()\n",
    "print('corpus length:', len(raw_text))\n",
    "print('example text:', raw_text[:150])"
   ]
  },
  {
   "cell_type": "code",
   "execution_count": 10,
   "metadata": {},
   "outputs": [
    {
     "name": "stdout",
     "output_type": "stream",
     "text": [
      "sampled original text:  ['\\ufeffBu', 'kitabı', 'dünyaya', 'göz', 'açdıqları', 'müqəddəs', 'yurd', 'yerləri', 'və', 'munis', 'uşaqlıq', 'xatirələri', 'düşmən', 'əsirliyində', 'qalan', 'bütün', 'yurddaşlarımın', 'acı', 'taleyinə', 'ithaf', 'edirəm.', '3', 'Müəllifdən', 'Əziz', 'oxucu!', 'Sizə', 'təqdim', 'olunan', 'bu', 'kitab,', 'əslində,', 'mənim', 'özümlə', 'söhbətim', 'yaxud', 'uşaqlıq', 'xatirələrimlə', 'dialoqumdur.', 'Mən', 'əsla', 'yazıçı', 'deyiləm,', 'hesab', 'edirəm', 'ki,', 'yazıçı', 'olmaq', 'xüsusi', 'istedad', 'tələb', 'edir', 'və', 'bir', 'növ,', 'Tanrı', 'tərəfindən', 'müəyyənləşdirilmiş', 'missiyadır.', 'Yəni', 'çalışqanlıqla,', 'zəhmətkeşliklə,', 'xüsusi', 'əmək', 'sərf', 'etməklə,', 'savadlı', 'olmaqla,', 'yaxşı', 'yazı', 'vərdişi', 'əldə', 'etməklə', 'yazıçı', 'olmaq', 'olmaz.', 'Gərək', 'Tanrı', 'sənin', 'qədərinə', 'yazıçı', 'olmağı', 'yazsın', 'ki,', 'sən', 'də', 'olasan...', 'Ancaq', 'uşaqlıq', 'xatirələrimdə', 'həyatda', 'baş', 'vermiş', 'elə', 'hadisələr', 'var', 'idi', 'ki,', 'mən', 'nədənsə', 'mütləq', 'onların', 'bir', 'yazıda', 'öz', 'əksini', 'tapmasını', 'istədim.', 'Çünki', 'hesab', 'edirdim', 'ki,', 'bunlar', 'bizim', 'tariximizlə,', 'atlarla', 'insanların', 'birgəyaşayış', 'tarixi', 'ilə,', 'milli', 'müstəqillik', 'tariximizlə', 'və', 'nəhayət,', 'işğal', 'edilmiş', 'torpaqlarımızla', 'bağlı', 'bədii-emosional', 'informasiya', 'mənbəyi', 'qismində', 'çıxış', 'edə', 'bilər.', 'Beləliklə,', 'yeni', 'nəsillərimiz', 'qədim', 'yurd', 'yerlərimiz,', 'orada', 'olan', 'həyat', 'və', 'məişət', 'haqqında', 'müəyyən', 'məlumat', 'əldə', 'etmiş', 'olar.', 'Bu', 'məqsədlə', 'də', 'uşaqlığımdan', 'bəri', 'yadımdan', 'heç', 'çıxmayan', 'və', 'atların', 'həyatı', 'və', 'sevgisi', 'ilə', 'bağlı', 'olan', 'bir', 'süjeti', 'bir', 'neçə', 'yazıçı', 'dostuma', 'danışaraq', 'bu', 'mövzuda', 'bir', 'roman,', 'yaxud', 'heç', 'olmazsa', 'bir', 'hekayə', 'yazmalarını', 'xahiş', 'etdim.', 'Sanki', 'bir-biri', 'ilə', 'sözləşmiş', 'kimi', 'yazıçı', 'dostlarımın', 'heç', 'biri', 'bu', 'mövzuda', 'heç', 'bir', 'şey', 'yazmadı.', 'Belə', 'olanda', 'mən,', 'bir', '4', 'növ,', 'zorən', 'nəsə', 'yazmaq', 'məcburiyyətində', 'qaldım.', 'Beləliklə,', 'Sizlərə', 'təqdim', 'etdiyim', 'bu', 'kitab', 'meydana', 'çıxdı.', 'Kitabı', 'işləyərkən', 'atlarla,', 'onların', 'bioloji', 'növ', 'olaraq', 'formalaşması,', 'əhliləşdirilməsi', 'tarixi', 'ilə', 'bağlı', 'xeyli', 'tədqiqat', 'aparmalı', 'oldum.', 'Atlarla', 'bağlı', 'mifoloji', 'süjetləri', 'tədqiq', 'etdim.', 'Bütün', 'türkdilli', 'xalqların', 'dastan', 'yaradıcılığında', 'at', 'fenomenini', 'öyrəndim.', 'Qanadlı', 'at', 'mifoloji', 'süjetinin', 'hansı', 'xalqın', 'mifoloji', 'dünyagörüşünə', 'aid', 'olduğunu', 'müəyyənləşdirməyə', 'çalışdım.', '“Dədə', 'Qorqud', 'dastanı”ndan', '“Koroğlu”', 'dastanına', 'qədər,', '“Altay', 'Buççay”', 'dastanından', '“Manas”,', '“Nart”', 'dastanlarına', 'qədər', '20-dən', 'çox', 'türk', 'dastanında', 'at', 'mövzusunu', 'ayrıca', 'tədqiqat', 'obyektinə', 'çevirdim.', 'Atların', 'dünyaya', 'necə', 'yayıldığını', 'elmi', 'əsaslarda,', 'akademik', 'kontekstdə', 'öyrənməyə', 'çalışdım.', 'Nəticədə', 'məlum', 'oldu', 'ki,', 'bəşəriyyət', 'bugünkü', 'inkişafına', 'görə', 'atlara', 'borcludur.', 'Çünki', 'cəmisi', 'son', '100', 'ilədək', 'döyüşlərin,', 'müharibələrin,', 'dövlətlərin', 'taleyini', 'həll', 'edən', 'əsas', 'vasitələrdən', 'biri', 'elə', 'atlar', 'imiş.', 'Atlar', 'musiqi', 'tariximizdə,', 'məişət', 'tariximizdə,', 'idman', 'və', 'tibb', 'tariximizdə,', 'dövlətçilik', 'tariximizdə', 'müstəsna', 'xidmətləri', 'olan', 'canlılarmış.', 'Ona', 'görə', 'də', 'atlarla', 'bağlı', 'məhəbbət', 'hekayətini', 'ayrı,', 'elmi', 'tədqiqat', 'hissəsini', 'isə', 'ayrı', 'işlədim.', 'Ancaq', 'hər', 'iki', 'mövzunu', 'bir', 'kitabda', 'Sizlərə', 'təqdim', 'etməyi', 'daha', 'məqbul', 'hesab', 'etdim.', 'Hörmətli', 'oxucu!', 'Bax', 'beləcə', 'zorən', 'yazılmış', 'bir', 'kitabı', 'Sizlərin', 'mütaliənizə', 'təqdim', 'edirəm.', 'Əgər', 'faydalı', 'bir', 'iş', 'görə', 'bilmişəmsə,', 'demək,', 'zəhmətim', 'hədər', 'getməyib...', '5', 'Yel', 'qanadlı', 'atların', 'dünyası', 'Hikmət', 'Babaoğlunun', 'mənə', 'göndərdiyi', 'əsərini', 'oxumazdan', 'öncə', 'mövzunun', 'nə', 'olduğunu', 'intuitiv', 'hiss', 'etmişdim.', 'İlk', 'vərəqdə', '“Qara', 'Duman”', 'yazıldığını', 'və', 'orada', 'at', 'şəkillərini', 'görən', 'kimi', 'barmağımı', 'dişlədim,', 'intuisiyamın', 'düzgün', 'çıxdığına', 'əmin', 'oldum.', 'Məsələ', 'burasındadır', 'ki,', 'biz', 'Hikmət', 'Babaoğlu', 'ilə', 'bir', 'neçə', 'dəfə', 'redaktorlarla', 'birlikdə', 'Ağdənizin', '–', 'Aralıq', 'dənizinin', 'sahilində', 'istirahətdə', 'olmuşuq.', 'Və', 'mən', 'dənizin', 'sahilindəki', 'axşam', 'söhbətlərimizdə', 'Hikmət', 'Babaoğlunun', 'redaktor', 'həmkarlarımıza', 'necə', 'həvəslə,', 'şövqlə', 'atlardan,', 'atların', 'mənşəyindən,', 'növlərindən', 'danışdığını', 'eşitmişəm.', 'Və', 'bu', 'əsərin', 'də', 'Hikmətin', 'atlar', 'haqqında', 'bilgilərinin,', 'məlumatlarının', 'təzahürü,', 'atlara', 'sevgisindən', 'doğan', 'əsər', 'olduğunu', 'təxmin', 'etmişdim', 'və', 'təxminim', 'də', 'doğruldu.', 'Hikmət', 'Babaoğlu', '“Qara', 'Duman”', 'əsərinin', 'başlanğıcında', 'yazır', 'ki,', 'bu', 'kitabı', 'dünyaya', 'göz', 'açdıqları', 'müqəddəs', 'yurd', 'yerləri', 'və', 'munis', 'uşaqlıq', 'xatirələri', 'düşmən', 'əsirliyində', 'olan', 'bütün', 'yurddaşlarımızın', 'acı', 'taleyinə', 'ithaf', 'edir.', 'Bu', 'əsər', 'bir', 'atın', 'yeni', 'qulununun', 'dünyaya', 'gəlməsi', 'ilə', 'başlanır.', 'At', 'balasının', 'dünyaya', 'gözünü', 'açması,', 'ətraf', 'mühitlə,', 'təbi-', '6', 'ətlə,', 'torpaqla', 'ilk', 'tanışlığı.', 'Suyu,', 'havanı', 'dadması,', 'hiss', 'eləməsi,', 'ildırımın', 'çaxmasına,', 'yağışın,', 'qarın', 'yağmasına', 'qarşı', 'heyrəti', 'əsərdə', 'zəngin', 'çalarlarla', 'təsvir', 'olunub.', 'Amma', 'məzmun', 'təkcə', 'bu', 'deyil.', 'Süjetdən', 'və', 'ithafdan', 'da', 'göründüyü', 'kimi,', 'ötən', 'əsrin,', 'yəqin', 'ki,', 'ikinci', 'yarısında', 'Ermənistan', 'ərazisində', 'yaşayan', 'soydaşlarımızın', 'yaşadıqları', 'obalar,', 'o', 'kəndlərdəki', 'kolxoz', 'həyatının', 'müəyyən', 'təsviri', 'də', 'var.', 'Ancaq', 'çox', 'da', 'gözə', 'çarpmayan', 'bu', 'xətt', 'əsərdə', 'ara-sıra', 'boy', 'verir.', 'Əsas', 'motiv,', 'əsərin', 'başlıca', 'qayəsi', 'və', 'geniş', 'təsvirlər', 'atlarla,', 'atların', 'tarixi', 'ilə', 'bağlıdır.', 'Burada', 'at', 'öz', 'qulununa', 'atların', 'mənşəyindən', 'söz', 'açır,', 'külək', 'və', 'ildırımın', 'bütün', 'atların', 'əcdadları', 'olduğunu', 'danışır.', 'Külək', 'kimi', 'sürətlə', 'qaçmaq,', 'ildırım', 'kimi', 'şahə', 'qalxmaq,', 'öz', 'kişnərtisini', 'göy', 'gurultusundan', 'götürmək', 'atlar', 'üçün', 'xarakterik', 'cəhətlərdir.', 'Eyni', 'zamanda,', 'bu', 'əsərin', 'içərisində', '12', 'min', 'il', 'əvvələ', 'aid', 'atlara', 'dair', 'rəvayətlərə', 'istinad', 'olunur.', 'Kopet', 'dağının', 'ətəklərində,', 'Akal', 'vadisində', 'ilk', 'at', 'ilxısı', 'barədə', 'rəvayətə', 'görə,', 'canavarların', 'hücumu', 'nəticəsində', 'atların', 'ulu', 'əcdadlarının', 'ilxısından', 'Kanq', 'və', 'Çapman', '1', 'adında', 'iki', 'at', 'bir', 'skif', 'ailəsinə', 'pənah', 'gətirir.', 'Bu', 'skif', 'ailəsi', 'atları', 'qoruyur.', 'Sonrakı', 'bütün', 'atların', 'da', 'əcdadları', 'bu', 'Kanq', 'va', 'Çapman', 'adlı', 'atlardır', 'ki,', '1', 'Əfsanəyə', 'görə,', 'atlar', 'küləyin', 'sıxılmış', 'formasından', 'yaradılıb.', 'Kanq', 'və', 'Çapman', 'sözləri', 'etimoloji', 'məna', 'etibarilə', 'türkcədir.', 'Kanq', '–', 'hökm', 'edən,', 'Çapman', 'isə', 'iti', 'qaçan', 'deməkdir.', 'Bütün', 'dillərdə', 'hippoloqlar', 'bu', 'sözlərdən', 'istifadə', 'edirlər.', '7', 'bunlar', 'da', 'skif', 'ailəsində', 'böyüdüklərinə', 'görə', 'insana', 'mehr', 'salır,', 'bu', 'instinkti', 'sonrakı', 'nəsillərinə', 'ötürürlər.', 'Hikmət', 'Babaoğlu,', 'yeri', 'gəldikcə,', 'Axaltəkə,', 'Qarabağ,', 'Dilboz', 'atlarının', 'tarixi', 'barədə', 'məlumatlar', 'təqdim', 'edir.', 'Paralel', 'süjetlə', 'atların', 'duyğularını,', 'xasiyyətini', 'açmağa', 'çalışır,', 'bir', 'tərəfdən', 'də', 'kənddə', 'yaşayan', 'insanların', 'atlarla', 'davranışı', 'və', 'oradakı', 'Oktar,', 'Kəngər', 'və', 'Səncər', 'adlı', 'gənclərin', 'atlara', 'münasibəti,', 'onları', 'qoruyub', 'qayğı', 'göstərmələri', 'kontekstində', 'də', 'qarşısında', 'qoyduğu', 'niyyətin,', 'ideyanın', 'açılışına', 'nail', 'olur.', 'Bir', 'məqamda', 'uşaqlar', 'əsərin', 'qəhrəmanı', 'olan', 'Qara', 'Duman', 'adlı', 'atın', 'quyruğunu', 'kəsirlər.', 'Oktar', 'yoldaşlıq', 'məhkəməsində,', 'komsomol', 'iclasında', 'çıxış', 'edir', 'və', 'bunu', 'eləyənlərin', 'cəzalandırılmasını', 'tələb', 'edir.', 'Amma', 'onlara', 'deyirlər,', 'sovet', 'sistemində', 'və', 'sovet', 'cinayət', 'məcəlləsində', 'belə', 'maddə', 'yoxdur', 'ki,', 'atın', 'quyruğunu', 'kəsənə', 'hansısa', 'cəza', 'verilsin,', 'Oktar', 'yenə', 'də', 'həyəcanla', 'çıxış', 'edərək', 'milli', 'adət-ənənələrin', 'qorunmasından,', 'atın', 'bizim', 'xalqımızın', 'həyatındakı', 'rolundan', 'danışır.', 'Əsərdə', 'ən', 'çox', 'təsvir', 'edilən', 'at', '–', 'Qara', 'Duman', 'böyüyür', 'və', 'atların,', 'bir', 'növ,', 'liderinə', 'çevrilir.', 'Bu', 'atda', 'hədsiz', 'azadlıq', 'eşqi', 'var.', 'Və', 'bu', 'Qarabağ', 'atı', 'ram', 'olunmaq,', 'öz', 'azadlığını', 'itirmək', 'istəmir.', 'Kolxozda', 'da', 'Qara', 'Dumanın', 'xamını', 'çıxarmağa', '–', 'başına', 'yüyən', 'keçirməyə,', 'belinə', 'yəhər', 'qoymağa,', 'bir', 'sözlə,', 'onu', 'ram', 'etməyə', 'nə', 'qədər', 'çalışırlarsa,', 'mümkün', 'olmur.', '2-3', 'cəhddən', 'sonra', 'atı', 'ram', 'etməyin', 'mümkünsüzlüyünü', 'görüb', 'bu', 'atı', 'ətliyə', '–', 'ət', '8', 'kombinatına', 'vermək', 'istəyirlər.', 'Amma', 'at', 'yolda', 'ZİL', 'maşınının', 'üstündən', 'atılıb', 'yoxa', 'çıxır,', 'bir', 'əfsanəyə', 'çevrilir.', 'Onun', 'azadlıq', 'arzusunu', 'boğmaq', 'olmur.', 'Qara', 'Dumanla', 'Gülgün2', 'qısraq', 'deyilən', 'dişi', 'atın', 'bir-birinə', 'sevgisi,', 'o', 'atların', 'rəqsi', 'maraqlı', 'epizodlardır.', 'Hikmət', 'Babaoğlu', 'atlarla', 'bağlı', 'çox', 'qədim', '–', 'gökbörü,', 'çovqan,', 'cirit', 'adlı', 'oyunlarımızı,', 'oyunlar', 'zamanı', 'insanlarla', 'atların', 'münasibətlərini,', 'atların', 'xarakterini', 'və', 'bu', 'mövzuda', 'mifoloji', 'məlumatları', 'qələmə', 'alır.', 'Onun', 'verdiyi', 'təbiət', 'təsvirləri,', 'yaşadığı', 'ərazini', 'tanıtması', 'diqqəti', 'çəkir,', 'əsərdəki', 'obrazlar', 'da', 'çox']\n",
      "sampled cleaned text:  ['kitabı', 'dünyaya', 'göz', 'açdıqları', 'müqəddəs', 'yurd', 'yerləri', 'və', 'munis', 'uşaqlıq', 'xatirələri', 'düşmən', 'əsirliyində', 'qalan', 'bütün', 'yurddaşlarımın', 'acı', 'taleyinə', 'ithaf', 'edirəm', 'müəllifdən', 'əziz', 'oxucu', 'sizə', 'təqdim', 'olunan', 'bu', 'kitab', 'əslində', 'mənim', 'özümlə', 'söhbətim', 'yaxud', 'uşaqlıq', 'xatirələrimlə', 'dialoqumdur', 'mən', 'əsla', 'yazıçı', 'deyiləm', 'hesab', 'edirəm', 'ki', 'yazıçı', 'olmaq', 'xüsusi', 'istedad', 'tələb', 'edir', 'və', 'bir', 'növ', 'tanrı', 'tərəfindən', 'müəyyənləşdirilmiş', 'missiyadır', 'yəni', 'çalışqanlıqla', 'zəhmətkeşliklə', 'xüsusi', 'əmək', 'sərf', 'etməklə', 'savadlı', 'olmaqla', 'yaxşı', 'yazı', 'vərdişi', 'əldə', 'etməklə', 'yazıçı', 'olmaq', 'olmaz', 'gərək', 'tanrı', 'sənin', 'qədərinə', 'yazıçı', 'olmağı', 'yazsın', 'ki', 'sən', 'də', 'olasan', 'ancaq', 'uşaqlıq', 'xatirələrimdə', 'həyatda', 'baş', 'vermiş', 'elə', 'hadisələr', 'var', 'idi', 'ki', 'mən', 'nədənsə', 'mütləq', 'onların', 'bir', 'yazıda', 'öz', 'əksini', 'tapmasını', 'istədim', 'çünki', 'hesab', 'edirdim', 'ki', 'bunlar', 'bizim', 'tariximizlə', 'atlarla', 'insanların', 'birgəyaşayış', 'tarixi', 'ilə', 'milli', 'müstəqillik', 'tariximizlə', 'və', 'nəhayət', 'işğal', 'edilmiş', 'torpaqlarımızla', 'bağlı', 'bədiiemosional', 'informasiya', 'mənbəyi', 'qismində', 'çıxış', 'edə', 'bilər', 'beləliklə', 'yeni', 'nəsillərimiz', 'qədim', 'yurd', 'yerlərimiz', 'orada', 'olan', 'həyat', 'və', 'məişət', 'haqqında', 'müəyyən', 'məlumat', 'əldə', 'etmiş', 'olar', 'bu', 'məqsədlə', 'də', 'uşaqlığımdan', 'bəri', 'yadımdan', 'heç', 'çıxmayan', 'və', 'atların', 'həyatı', 'və', 'sevgisi', 'ilə', 'bağlı', 'olan', 'bir', 'süjeti', 'bir', 'neçə', 'yazıçı', 'dostuma', 'danışaraq', 'bu', 'mövzuda', 'bir', 'roman', 'yaxud', 'heç', 'olmazsa', 'bir', 'hekayə', 'yazmalarını', 'xahiş', 'etdim', 'sanki', 'birbiri', 'ilə', 'sözləşmiş', 'kimi', 'yazıçı', 'dostlarımın', 'heç', 'biri', 'bu', 'mövzuda', 'heç', 'bir', 'şey', 'yazmadı', 'belə', 'olanda', 'mən', 'bir', 'növ', 'zorən', 'nəsə', 'yazmaq', 'məcburiyyətində', 'qaldım', 'beləliklə', 'sizlərə', 'təqdim', 'etdiyim', 'bu', 'kitab', 'meydana', 'çıxdı', 'kitabı', 'işləyərkən', 'atlarla', 'onların', 'bioloji', 'növ', 'olaraq', 'formalaşması', 'əhliləşdirilməsi', 'tarixi', 'ilə', 'bağlı', 'xeyli', 'tədqiqat', 'aparmalı', 'oldum', 'atlarla', 'bağlı', 'mifoloji', 'süjetləri', 'tədqiq', 'etdim', 'bütün', 'türkdilli', 'xalqların', 'dastan', 'yaradıcılığında', 'at', 'fenomenini', 'öyrəndim', 'qanadlı', 'at', 'mifoloji', 'süjetinin', 'hansı', 'xalqın', 'mifoloji', 'dünyagörüşünə', 'aid', 'olduğunu', 'müəyyənləşdirməyə', 'çalışdım', 'qorqud', 'dastanına', 'qədər', 'dastanından', 'dastanlarına', 'qədər', 'çox', 'türk', 'dastanında', 'at', 'mövzusunu', 'ayrıca', 'tədqiqat', 'obyektinə', 'çevirdim', 'atların', 'dünyaya', 'necə', 'yayıldığını', 'elmi', 'əsaslarda', 'akademik', 'kontekstdə', 'öyrənməyə', 'çalışdım', 'nəticədə', 'məlum', 'oldu', 'ki', 'bəşəriyyət', 'bugünkü', 'inkişafına', 'görə', 'atlara', 'borcludur', 'çünki', 'cəmisi', 'son', 'ilədək', 'döyüşlərin', 'müharibələrin', 'dövlətlərin', 'taleyini', 'həll', 'edən', 'əsas', 'vasitələrdən', 'biri', 'elə', 'atlar', 'imiş', 'atlar', 'musiqi', 'tariximizdə', 'məişət', 'tariximizdə', 'idman', 'və', 'tibb', 'tariximizdə', 'dövlətçilik', 'tariximizdə', 'müstəsna', 'xidmətləri', 'olan', 'canlılarmış', 'ona', 'görə', 'də', 'atlarla', 'bağlı', 'məhəbbət', 'hekayətini', 'ayrı', 'elmi', 'tədqiqat', 'hissəsini', 'isə', 'ayrı', 'işlədim', 'ancaq', 'hər', 'iki', 'mövzunu', 'bir', 'kitabda', 'sizlərə', 'təqdim', 'etməyi', 'daha', 'məqbul', 'hesab', 'etdim', 'hörmətli', 'oxucu', 'bax', 'beləcə', 'zorən', 'yazılmış', 'bir', 'kitabı', 'sizlərin', 'mütaliənizə', 'təqdim', 'edirəm', 'əgər', 'faydalı', 'bir', 'iş', 'görə', 'bilmişəmsə', 'demək', 'zəhmətim', 'hədər', 'getməyib', 'yel', 'qanadlı', 'atların', 'dünyası', 'hikmət', 'babaoğlunun', 'mənə', 'göndərdiyi', 'əsərini', 'oxumazdan', 'öncə', 'mövzunun', 'nə', 'olduğunu', 'intuitiv', 'hiss', 'etmişdim', 'i̇lk', 'vərəqdə', 'yazıldığını', 'və', 'orada', 'at', 'şəkillərini', 'görən', 'kimi', 'barmağımı', 'dişlədim', 'intuisiyamın', 'düzgün', 'çıxdığına', 'əmin', 'oldum', 'məsələ', 'burasındadır', 'ki', 'biz', 'hikmət', 'babaoğlu', 'ilə', 'bir', 'neçə', 'dəfə', 'redaktorlarla', 'birlikdə', 'ağdənizin', 'aralıq', 'dənizinin', 'sahilində', 'istirahətdə', 'olmuşuq', 'və', 'mən', 'dənizin', 'sahilindəki', 'axşam', 'söhbətlərimizdə', 'hikmət', 'babaoğlunun', 'redaktor', 'həmkarlarımıza', 'necə', 'həvəslə', 'şövqlə', 'atlardan', 'atların', 'mənşəyindən', 'növlərindən', 'danışdığını', 'eşitmişəm', 'və', 'bu', 'əsərin', 'də', 'hikmətin', 'atlar', 'haqqında', 'bilgilərinin', 'məlumatlarının', 'təzahürü', 'atlara', 'sevgisindən', 'doğan', 'əsər', 'olduğunu', 'təxmin', 'etmişdim', 'və', 'təxminim', 'də', 'doğruldu', 'hikmət', 'babaoğlu', 'əsərinin', 'başlanğıcında', 'yazır', 'ki', 'bu', 'kitabı', 'dünyaya', 'göz', 'açdıqları', 'müqəddəs', 'yurd', 'yerləri', 'və', 'munis', 'uşaqlıq', 'xatirələri', 'düşmən', 'əsirliyində', 'olan', 'bütün', 'yurddaşlarımızın', 'acı', 'taleyinə', 'ithaf', 'edir', 'bu', 'əsər', 'bir', 'atın', 'yeni', 'qulununun', 'dünyaya', 'gəlməsi', 'ilə', 'başlanır', 'at', 'balasının', 'dünyaya', 'gözünü', 'açması', 'ətraf', 'mühitlə', 'təbi', 'ətlə', 'torpaqla', 'ilk', 'tanışlığı', 'suyu', 'havanı', 'dadması', 'hiss', 'eləməsi', 'ildırımın', 'çaxmasına', 'yağışın', 'qarın', 'yağmasına', 'qarşı', 'heyrəti', 'əsərdə', 'zəngin', 'çalarlarla', 'təsvir', 'olunub', 'amma', 'məzmun', 'təkcə', 'bu', 'deyil', 'süjetdən', 'və', 'ithafdan', 'da', 'göründüyü', 'kimi', 'ötən', 'əsrin', 'yəqin', 'ki', 'ikinci', 'yarısında', 'ermənistan', 'ərazisində', 'yaşayan', 'soydaşlarımızın', 'yaşadıqları', 'obalar', 'o', 'kəndlərdəki', 'kolxoz', 'həyatının', 'müəyyən', 'təsviri', 'də', 'var', 'ancaq', 'çox', 'da', 'gözə', 'çarpmayan', 'bu', 'xətt', 'əsərdə', 'arasıra', 'boy', 'verir', 'əsas', 'motiv', 'əsərin', 'başlıca', 'qayəsi', 'və', 'geniş', 'təsvirlər', 'atlarla', 'atların', 'tarixi', 'ilə', 'bağlıdır', 'burada', 'at', 'öz', 'qulununa', 'atların', 'mənşəyindən', 'söz', 'açır', 'külək', 'və', 'ildırımın', 'bütün', 'atların', 'əcdadları', 'olduğunu', 'danışır', 'külək', 'kimi', 'sürətlə', 'qaçmaq', 'ildırım', 'kimi', 'şahə', 'qalxmaq', 'öz', 'kişnərtisini', 'göy', 'gurultusundan', 'götürmək', 'atlar', 'üçün', 'xarakterik', 'cəhətlərdir', 'eyni', 'zamanda', 'bu', 'əsərin', 'içərisində', 'min', 'il', 'əvvələ', 'aid', 'atlara', 'dair', 'rəvayətlərə', 'istinad', 'olunur', 'kopet', 'dağının', 'ətəklərində', 'akal', 'vadisində', 'ilk', 'at', 'ilxısı', 'barədə', 'rəvayətə', 'görə', 'canavarların', 'hücumu', 'nəticəsində', 'atların', 'ulu', 'əcdadlarının', 'ilxısından', 'kanq', 'və', 'çapman', 'adında', 'iki', 'at', 'bir', 'skif', 'ailəsinə', 'pənah', 'gətirir', 'bu', 'skif', 'ailəsi', 'atları', 'qoruyur', 'sonrakı', 'bütün', 'atların', 'da', 'əcdadları', 'bu', 'kanq', 'va', 'çapman', 'adlı', 'atlardır', 'ki', 'əfsanəyə', 'görə', 'atlar', 'küləyin', 'sıxılmış', 'formasından', 'yaradılıb', 'kanq', 'və', 'çapman', 'sözləri', 'etimoloji', 'məna', 'etibarilə', 'türkcədir', 'kanq', 'hökm', 'edən', 'çapman', 'isə', 'iti', 'qaçan', 'deməkdir', 'bütün', 'dillərdə', 'hippoloqlar', 'bu', 'sözlərdən', 'istifadə', 'edirlər', 'bunlar', 'da', 'skif', 'ailəsində', 'böyüdüklərinə', 'görə', 'insana', 'mehr', 'salır', 'bu', 'instinkti', 'sonrakı', 'nəsillərinə', 'ötürürlər', 'hikmət', 'babaoğlu', 'yeri', 'gəldikcə', 'axaltəkə', 'qarabağ', 'dilboz', 'atlarının', 'tarixi', 'barədə', 'məlumatlar', 'təqdim', 'edir', 'paralel', 'süjetlə', 'atların', 'duyğularını', 'xasiyyətini', 'açmağa', 'çalışır', 'bir', 'tərəfdən', 'də', 'kənddə', 'yaşayan', 'insanların', 'atlarla', 'davranışı', 'və', 'oradakı', 'oktar', 'kəngər', 'və', 'səncər', 'adlı', 'gənclərin', 'atlara', 'münasibəti', 'onları', 'qoruyub', 'qayğı', 'göstərmələri', 'kontekstində', 'də', 'qarşısında', 'qoyduğu', 'niyyətin', 'ideyanın', 'açılışına', 'nail', 'olur', 'bir', 'məqamda', 'uşaqlar', 'əsərin', 'qəhrəmanı', 'olan', 'qara', 'duman', 'adlı', 'atın', 'quyruğunu', 'kəsirlər', 'oktar', 'yoldaşlıq', 'məhkəməsində', 'komsomol', 'iclasında', 'çıxış', 'edir', 'və', 'bunu', 'eləyənlərin', 'cəzalandırılmasını', 'tələb', 'edir', 'amma', 'onlara', 'deyirlər', 'sovet', 'sistemində', 'və', 'sovet', 'cinayət', 'məcəlləsində', 'belə', 'maddə', 'yoxdur', 'ki', 'atın', 'quyruğunu', 'kəsənə', 'hansısa', 'cəza', 'verilsin', 'oktar', 'yenə', 'də', 'həyəcanla', 'çıxış', 'edərək', 'milli', 'adətənənələrin', 'qorunmasından', 'atın', 'bizim', 'xalqımızın', 'həyatındakı', 'rolundan', 'danışır', 'əsərdə', 'ən', 'çox', 'təsvir', 'edilən', 'at', 'qara', 'duman', 'böyüyür', 'və', 'atların', 'bir', 'növ', 'liderinə', 'çevrilir', 'bu', 'atda', 'hədsiz', 'azadlıq', 'eşqi', 'var', 'və', 'bu', 'qarabağ', 'atı', 'ram', 'olunmaq', 'öz', 'azadlığını', 'itirmək', 'istəmir', 'kolxozda', 'da', 'qara', 'dumanın', 'xamını', 'çıxarmağa', 'başına', 'yüyən', 'keçirməyə', 'belinə', 'yəhər', 'qoymağa', 'bir', 'sözlə', 'onu', 'ram', 'etməyə', 'nə', 'qədər', 'çalışırlarsa', 'mümkün', 'olmur', 'cəhddən', 'sonra', 'atı', 'ram', 'etməyin', 'mümkünsüzlüyünü', 'görüb', 'bu', 'atı', 'ətliyə', 'ət', 'kombinatına', 'vermək', 'istəyirlər', 'amma', 'at', 'yolda', 'zi̇l', 'maşınının', 'üstündən', 'atılıb', 'yoxa', 'çıxır', 'bir', 'əfsanəyə', 'çevrilir', 'onun', 'azadlıq', 'arzusunu', 'boğmaq', 'olmur', 'qara', 'dumanla', 'qısraq', 'deyilən', 'dişi', 'atın', 'birbirinə', 'sevgisi', 'o', 'atların', 'rəqsi', 'maraqlı', 'epizodlardır', 'hikmət', 'babaoğlu', 'atlarla', 'bağlı', 'çox', 'qədim', 'gökbörü', 'çovqan', 'cirit', 'adlı', 'oyunlarımızı', 'oyunlar', 'zamanı', 'insanlarla', 'atların', 'münasibətlərini', 'atların', 'xarakterini', 'və', 'bu', 'mövzuda', 'mifoloji', 'məlumatları', 'qələmə', 'alır', 'onun', 'verdiyi', 'təbiət', 'təsvirləri', 'yaşadığı', 'ərazini', 'tanıtması', 'diqqəti', 'çəkir', 'əsərdəki', 'obrazlar', 'da', 'çox', 'maraqlı', 'şəkildə', 'təqdim', 'edilir', 'yazın', 'gəlişində', 'təbiətin', 'oyanması', 'təbiətin', 'çiçəklənməsi', 'bir', 'cür', 'təsvir', 'olunursa', 'payızda', 'artıq', 'tərk', 'edilən', 'bir', 'obanın', 'vəziyyəti', 'özünəməxsus', 'boyalarla', 'verilir', 'artıq', 'bu', 'obanın', 'üzərindən', 'bir', 'daha', 'köç']\n",
      "75444\n",
      "73747\n"
     ]
    }
   ],
   "source": [
    "#Take every word as item in array\n",
    "tokens = raw_text.split()\n",
    "cleaned_tokens = []\n",
    "table = str.maketrans('', '', string.punctuation) \n",
    "for word in tokens:\n",
    "    word = word.translate(table) #Clean text and translate it to table\n",
    "    if word.isalpha():\n",
    "        cleaned_tokens.append(word.lower()) #Deleting all non-alpha values\n",
    "\n",
    "print('sampled original text: ', tokens[:1000])\n",
    "print('sampled cleaned text: ', cleaned_tokens[:1000])\n",
    "print(len(tokens))\n",
    "print(len(cleaned_tokens))"
   ]
  },
  {
   "cell_type": "code",
   "execution_count": 11,
   "metadata": {},
   "outputs": [
    {
     "name": "stdout",
     "output_type": "stream",
     "text": [
      "vocabulary size:  7209\n",
      "filtered words:  10002\n"
     ]
    }
   ],
   "source": [
    "#this code chunk I used to check if I can increase performance of the model if only frequent words will be taken,\n",
    "#But when I increased min_count(minimum frequency) it cut off 10 000 words and can not understand which word will come after\n",
    "# in the last part of code(output was sequence of <non>)\n",
    "#Finally i decided to assign it as 2\n",
    "min_count = 2\n",
    "unknown_token = '<non>'\n",
    "word2index = {unknown_token: 0}\n",
    "index2word = [unknown_token]\n",
    "\n",
    "filtered_words = 0\n",
    "counter = Counter(cleaned_tokens)\n",
    "for word, count in counter.items():\n",
    "    if count >= min_count:\n",
    "        index2word.append(word)\n",
    "        word2index[word] = len(word2index)\n",
    "    else:\n",
    "        filtered_words += 1\n",
    "\n",
    "num_classes = len(word2index)\n",
    "print('vocabulary size: ', num_classes)\n",
    "print('filtered words: ', filtered_words)"
   ]
  },
  {
   "cell_type": "code",
   "execution_count": 12,
   "metadata": {},
   "outputs": [
    {
     "name": "stdout",
     "output_type": "stream",
     "text": [
      "sequence dimension:  (18425, 50)\n",
      "target dimension:  (18425, 7209)\n",
      "example sequence:\n",
      " [ 1  2  3  4  5  6  7  8  9 10 11 12 13 14 15  0 16 17 18 19 20 21 22 23\n",
      " 24 25 26 27 28 29  0  0 30 10  0  0 31 32 33  0 34 19 35 33 36 37  0 38\n",
      " 39  8]\n"
     ]
    }
   ],
   "source": [
    "#creating sequence of words with maximum len\n",
    "step = 3\n",
    "maxlen = 50\n",
    "X = []\n",
    "y = []\n",
    "for i in range(0, len(cleaned_tokens) - maxlen, step):\n",
    "    sentence = cleaned_tokens[i:i + maxlen]\n",
    "    next_word = cleaned_tokens[i + maxlen]\n",
    "    X.append([word2index.get(word, 0) for word in sentence])\n",
    "    y.append(word2index.get(next_word, 0))\n",
    "\n",
    "#making target array with one-hot encoded format(using just to_categorial is enough in my code)\n",
    "X = np.array(X)\n",
    "Y = to_categorical(y, num_classes)\n",
    "print('sequence dimension: ', X.shape)\n",
    "print('target dimension: ', Y.shape)\n",
    "print('example sequence:\\n', X[0])"
   ]
  },
  {
   "cell_type": "code",
   "execution_count": 13,
   "metadata": {},
   "outputs": [
    {
     "name": "stdout",
     "output_type": "stream",
     "text": [
      "Model: \"sequential_1\"\n",
      "_________________________________________________________________\n",
      "Layer (type)                 Output Shape              Param #   \n",
      "=================================================================\n",
      "embedding_1 (Embedding)      (None, 50, 50)            360450    \n",
      "_________________________________________________________________\n",
      "lstm_1 (LSTM)                (None, 256)               314368    \n",
      "_________________________________________________________________\n",
      "dense_1 (Dense)              (None, 7209)              1852713   \n",
      "=================================================================\n",
      "Total params: 2,527,531\n",
      "Trainable params: 2,527,531\n",
      "Non-trainable params: 0\n",
      "_________________________________________________________________\n",
      "None\n"
     ]
    }
   ],
   "source": [
    "#RNN neural network model construction first\n",
    "embedding_size = 50\n",
    "lstm_size = 256\n",
    "model1 = Sequential()\n",
    "model1.add(Embedding(num_classes, embedding_size, input_length = maxlen))\n",
    "model1.add(LSTM(lstm_size))\n",
    "model1.add(Dense(num_classes, activation = 'softmax'))\n",
    "model1.compile(loss = 'categorical_crossentropy', optimizer = 'adam')\n",
    "print(model1.summary())"
   ]
  },
  {
   "cell_type": "code",
   "execution_count": 14,
   "metadata": {},
   "outputs": [
    {
     "name": "stdout",
     "output_type": "stream",
     "text": [
      "Model: \"sequential_2\"\n",
      "_________________________________________________________________\n",
      "Layer (type)                 Output Shape              Param #   \n",
      "=================================================================\n",
      "embedding_2 (Embedding)      (None, 50, 50)            360450    \n",
      "_________________________________________________________________\n",
      "lstm_2 (LSTM)                (None, 50, 256)           314368    \n",
      "_________________________________________________________________\n",
      "lstm_3 (LSTM)                (None, 256)               525312    \n",
      "_________________________________________________________________\n",
      "dense_2 (Dense)              (None, 7209)              1852713   \n",
      "=================================================================\n",
      "Total params: 3,052,843\n",
      "Trainable params: 3,052,843\n",
      "Non-trainable params: 0\n",
      "_________________________________________________________________\n",
      "None\n"
     ]
    }
   ],
   "source": [
    "#RNN neural network model construction another model\n",
    "embedding_size = 50\n",
    "lstm_size = 256\n",
    "model2 = Sequential()\n",
    "model2.add(Embedding(num_classes, embedding_size, input_length = maxlen))\n",
    "model2.add(LSTM(256, return_sequences = True))\n",
    "model2.add(LSTM(256))\n",
    "model2.add(Dense(num_classes, activation = 'softmax'))\n",
    "model2.compile(loss = 'categorical_crossentropy', optimizer = 'adam')\n",
    "print(model2.summary())"
   ]
  },
  {
   "cell_type": "code",
   "execution_count": 18,
   "metadata": {},
   "outputs": [
    {
     "name": "stdout",
     "output_type": "stream",
     "text": [
      "Actual words: bir <non> <non> etməklə yazı yazıçı tanrı olmağı də <non> \n",
      "Predicted words: <non> <non> <non> <non> <non> <non> <non> <non> <non> <non> \n"
     ]
    }
   ],
   "source": [
    "def check_prediction(model, num_predict):\n",
    "    true_print_out = 'Actual words: '\n",
    "    pred_print_out = 'Predicted words: '\n",
    "    for i in range(num_predict):\n",
    "        x = X[i]\n",
    "        prediction = model.predict(x[np.newaxis, :], verbose = 0)\n",
    "        index = np.argmax(prediction)\n",
    "        true_print_out += index2word[y[i]] + ' '\n",
    "        pred_print_out += index2word[index] + ' '\n",
    "\n",
    "    print(true_print_out)\n",
    "    print(pred_print_out)\n",
    "\n",
    "#Try to predict actual sentence with predicted one\n",
    "num_predict = 10\n",
    "model = model_info1['model']\n",
    "check_prediction(model2, num_predict)\n"
   ]
  },
  {
   "cell_type": "code",
   "execution_count": 15,
   "metadata": {},
   "outputs": [
    {
     "name": "stdout",
     "output_type": "stream",
     "text": [
      "model checkpoint address:  lstm_weights3.hdf5\n",
      "Epoch 1/30\n",
      "461/461 [==============================] - 116s 251ms/step - loss: 7.4034 - val_loss: 7.3220\n",
      "Epoch 2/30\n",
      "461/461 [==============================] - 112s 244ms/step - loss: 6.8451 - val_loss: 7.5264\n",
      "Epoch 3/30\n",
      "461/461 [==============================] - 113s 245ms/step - loss: 6.7265 - val_loss: 7.7571\n",
      "Epoch 4/30\n",
      "461/461 [==============================] - 121s 262ms/step - loss: 6.6453 - val_loss: 7.8588\n",
      "Epoch 5/30\n",
      "461/461 [==============================] - 127s 276ms/step - loss: 6.5647 - val_loss: 8.0318\n",
      "Epoch 6/30\n",
      "461/461 [==============================] - 137s 296ms/step - loss: 6.4508 - val_loss: 8.2128\n",
      "Epoch 00006: early stopping\n",
      "elapsed time:  730.8539001941681\n"
     ]
    }
   ],
   "source": [
    "#Function to build model and calculate time of building\n",
    "def build_model(model, address = None):\n",
    "    if address is not None or not os.path.isfile(address):\n",
    "        stop = EarlyStopping(monitor = 'val_loss', min_delta = 0, \n",
    "                             patience = 5, verbose = 1, mode = 'auto')\n",
    "        save = ModelCheckpoint(address, monitor = 'val_loss', \n",
    "                               verbose = 0, save_best_only = True)\n",
    "        callbacks = [stop, save]\n",
    "\n",
    "        start = time()\n",
    "        history = model.fit(X, Y, batch_size = batch_size, \n",
    "                            epochs = epochs, verbose = 1,\n",
    "                            validation_split = validation_split,\n",
    "                            callbacks = callbacks)\n",
    "        elapse = time() - start\n",
    "        print('elapsed time: ', elapse)\n",
    "        model_info = {'history': history, 'elapse': elapse, 'model': model}\n",
    "    else:\n",
    "        model = load_model(address)\n",
    "        model_info = {'model': model}\n",
    "\n",
    "    return model_info\n",
    "  \n",
    "\n",
    "epochs = 30\n",
    "batch_size = 32\n",
    "validation_split = 0.2\n",
    "address2 = 'lstm_weights3.hdf5'\n",
    "print('model checkpoint address: ', address2)\n",
    "model_info1 = build_model(model2, address2)"
   ]
  },
  {
   "cell_type": "code",
   "execution_count": null,
   "metadata": {},
   "outputs": [],
   "source": [
    "#I try to understand why my model perform very badly, but I can not find any cause of that\n",
    "#I tried to increase number of filtered words, but it was as badly, as decreasing them\n",
    "#Also I tried different models of RNN, but it does not helped in my performance\n"
   ]
  }
 ],
 "metadata": {
  "kernelspec": {
   "display_name": "Python 3",
   "language": "python",
   "name": "python3"
  },
  "language_info": {
   "codemirror_mode": {
    "name": "ipython",
    "version": 3
   },
   "file_extension": ".py",
   "mimetype": "text/x-python",
   "name": "python",
   "nbconvert_exporter": "python",
   "pygments_lexer": "ipython3",
   "version": "3.8.5"
  }
 },
 "nbformat": 4,
 "nbformat_minor": 4
}
